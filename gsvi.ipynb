{
 "cells": [
  {
   "cell_type": "code",
   "execution_count": 5,
   "metadata": {},
   "outputs": [
    {
     "name": "stdin",
     "output_type": "stream",
     "text": [
      "Input start year: 2015\n",
      "Input end year: 2016\n",
      "What are you looking for? food\n",
      "Which region? \n"
     ]
    },
    {
     "name": "stdout",
     "output_type": "stream",
     "text": [
      "2014-01-01 02:00:00     90\n",
      "2014-02-01 02:00:00     89\n",
      "2014-03-01 02:00:00     91\n",
      "2014-04-01 04:00:00     91\n",
      "2014-05-01 04:00:00     90\n",
      "                      ... \n",
      "2015-08-01 03:00:00    100\n",
      "2015-09-01 03:00:00    100\n",
      "2015-10-01 03:00:00    100\n",
      "2015-11-01 03:00:00    100\n",
      "2015-12-01 03:00:00    100\n",
      "Name: food, Length: 24, dtype: int64\n"
     ]
    },
    {
     "data": {
      "text/plain": [
       "647"
      ]
     },
     "execution_count": 5,
     "metadata": {},
     "output_type": "execute_result"
    }
   ],
   "source": [
    "# GSVI - Google Search Volume Index. In order to install the plugin you need to enter: \"pip install gsvi\". Read more: https://pypi.org/project/gsvi/\n",
    " \n",
    "\n",
    "import datetime as dt\n",
    "import os\n",
    "import pandas\n",
    "from gsvi.connection import GoogleConnection\n",
    "from gsvi.timeseries import SVSeries\n",
    "\n",
    "# We get the year of the beginning and ending\n",
    "#!!! We need to pick up this variable through Bot in telegram !!!\n",
    "gotStartYear = input (\"Input start year:\")\n",
    "gotEndYear = input (\"Input end year:\")\n",
    "Word = input (\"What are you looking for?\")\n",
    "Region = input (\"Which region?\")\n",
    "\n",
    "#Converting a value to a number\n",
    "startYear = int(gotStartYear) \n",
    "endYear = int(gotEndYear) \n",
    "\n",
    "# series start and end\n",
    "start = dt.datetime(year=startyear, month=1, day=1)\n",
    "end = dt.datetime(year=endyear, month=12, day=31)\n",
    "\n",
    "# make connection to Google Trends and inject connection into the request structure\n",
    "connection = GoogleConnection()\n",
    "series = SVSeries.univariate(connection=connection,\n",
    "                             query={'key': Word, 'geo': Region},\n",
    "                             start=start, end=end, granularity='MONTH'\n",
    "                             )\n",
    "ts = series.get_data()\n",
    "\n",
    "print(ts)\n",
    "\n",
    "ts2 = pandas.Series.to_string(ts)\n",
    "\n",
    "file = open('file.csv', 'w')\n",
    "file.write(ts2)\n",
    "file.close()"
   ]
  },
  {
   "cell_type": "code",
   "execution_count": null,
   "metadata": {},
   "outputs": [],
   "source": []
  }
 ],
 "metadata": {
  "kernelspec": {
   "display_name": "Python 3",
   "language": "python",
   "name": "python3"
  },
  "language_info": {
   "codemirror_mode": {
    "name": "ipython",
    "version": 3
   },
   "file_extension": ".py",
   "mimetype": "text/x-python",
   "name": "python",
   "nbconvert_exporter": "python",
   "pygments_lexer": "ipython3",
   "version": "3.7.4"
  }
 },
 "nbformat": 4,
 "nbformat_minor": 4
}
